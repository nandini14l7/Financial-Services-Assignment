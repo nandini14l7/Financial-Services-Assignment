{
 "cells": [
  {
   "cell_type": "code",
   "execution_count": 1,
   "id": "54caef1a",
   "metadata": {},
   "outputs": [
    {
     "name": "stdin",
     "output_type": "stream",
     "text": [
      "Enter a ticker symbol or company name:  aapl\n"
     ]
    },
    {
     "name": "stdout",
     "output_type": "stream",
     "text": [
      "Downloading filings for AAPL (Apple Inc.) from 1995 to 2023\n",
      "Downloaded filings for AAPL (Apple Inc.)\n"
     ]
    }
   ],
   "source": [
    "import pandas as pd\n",
    "from sec_edgar_downloader import Downloader\n",
    "\n",
    "# Load tickers from CSV\n",
    "csv_path = \"C:/Users/nandi/Downloads/company_tickers.csv\"\n",
    "tickers_df = pd.read_csv(csv_path)\n",
    "\n",
    "# Initialize the downloader with company details\n",
    "dl = Downloader(\"BML Munjal University\", \"nandini.shukla.21cse@bmu.edu.in\", \"C:/Users/nandi/Desktop/Financial Services/List of 10-k filings\")\n",
    "\n",
    "# Function to download SEC filings based on ticker or company name for the specified years\n",
    "def download_filings(query):\n",
    "    \"\"\"Download 10-K filings based on a ticker symbol or company name from 1995 to 2023.\"\"\"\n",
    "    # Check for ticker or title match\n",
    "    matches = tickers_df[(tickers_df['ticker'].str.upper() == query.upper()) |\n",
    "                         (tickers_df['title'].str.upper() == query.upper())]\n",
    "\n",
    "    if not matches.empty:\n",
    "        for _, match in matches.iterrows():\n",
    "            ticker = match['ticker']\n",
    "            print(f\"Downloading filings for {ticker} ({match['title']}) from 1995 to 2023\")\n",
    "            # Download filings from 1995 to 2023\n",
    "            dl.get(\"10-K\", ticker, after=\"1995-01-01\", before=\"2024-01-01\")\n",
    "            print(f\"Downloaded filings for {ticker} ({match['title']})\")\n",
    "    else:\n",
    "        print(\"No matches found for your query.\")\n",
    "\n",
    "# Ask user for input (ticker or company name)\n",
    "user_input = input(\"Enter a ticker symbol or company name: \")\n",
    "download_filings(user_input)\n"
   ]
  },
  {
   "cell_type": "code",
   "execution_count": null,
   "id": "d5108d5a",
   "metadata": {},
   "outputs": [],
   "source": [
    "import os\n",
    "import shutil\n",
    "import re\n",
    "base_directory = 'C:/Users/nandi/Desktop/Financial Services/List of 10-k filings/sec-edgar-filings/TSLA'\n",
    "\n",
    "# Set the path to the '10-k' subfolder\n",
    "subfolder_path = os.path.join(base_directory, '10-k')\n",
    "target_directory = base_directory\n",
    "\n",
    "\n",
    "min_year = 1995\n",
    "max_year = 2023\n",
    "\n",
    "file_counter = 1\n",
    "\n",
    "def find_year_in_file(file_path):\n",
    "    \"\"\"Reads the file and extracts the year based on a regex search.\"\"\"\n",
    "    with open(file_path, 'r', encoding='utf-8') as file:\n",
    "        content = file.read()\n",
    "        match = re.search(r'\\b(199[5-9]|20[0-2][0-9]|2023)\\b', content)\n",
    "        if match:\n",
    "            return int(match.group(0))\n",
    "    return None\n",
    "\n",
    "for subdir, dirs, files in os.walk(subfolder_path, topdown=False):\n",
    "    for file in files:\n",
    "        file_path = os.path.join(subdir, file)\n",
    "        \n",
    "        year = find_year_in_file(file_path)\n",
    "        if year and min_year <= year <= max_year:\n",
    "            # Generate a new filename using the counter\n",
    "            new_filename = f\"year {file_counter}.txt\"\n",
    "            new_file_path = os.path.join(target_directory, new_filename)\n",
    "            \n",
    "            # Move the file to the new directory and rename it\n",
    "            shutil.move(file_path, new_file_path)\n",
    "            file_counter += 1  # Increment the counter for the next file\n",
    "            print(f\"File {file} renamed to {new_filename} and moved successfully.\")\n",
    "        else:\n",
    "            print(f\"Year not found or invalid in file {file}. Skipping.\")\n",
    "\n",
    "print(f\"All applicable files have been moved and renamed in {target_directory}\")\n"
   ]
  },
  {
   "cell_type": "code",
   "execution_count": null,
   "id": "9c74e5c6",
   "metadata": {},
   "outputs": [],
   "source": []
  },
  {
   "cell_type": "code",
   "execution_count": null,
   "id": "1d6e6ccd",
   "metadata": {},
   "outputs": [],
   "source": [
    "import os\n",
    "\n",
    "def rename_txt_to_html(source_folder, target_folder=None):\n",
    "    # If the target folder is not specified, use the source folder\n",
    "    if target_folder is None:\n",
    "        target_folder = source_folder\n",
    "    \n",
    "    # Ensure the target directory exists\n",
    "    os.makedirs(target_folder, exist_ok=True)\n",
    "\n",
    "    # List all files in the source folder\n",
    "    for filename in os.listdir(source_folder):\n",
    "        if filename.endswith(\".txt\"):\n",
    "            # Construct the full file paths for source and target\n",
    "            source_file_path = os.path.join(source_folder, filename)\n",
    "            target_file_path = os.path.join(target_folder, filename.replace('.txt', '.html'))\n",
    "            \n",
    "            # Rename the file by copying it to a new file with the .html extension\n",
    "            with open(source_file_path, 'r', encoding='utf-8') as file:\n",
    "                content = file.read()\n",
    "\n",
    "            with open(target_file_path, 'w', encoding='utf-8') as file:\n",
    "                file.write(content)\n",
    "\n",
    "            print(f\"File {filename} has been renamed to {target_file_path}\")\n",
    "\n",
    "# Specify the source and target folders\n",
    "source_folder = 'C:/Users/nandi/Desktop/Financial Services/List of 10-k filings/sec-edgar-filings/TSLA'\n",
    "target_folder = 'C:/Users/nandi/Desktop/Financial Services/List of 10-k filings/sec-edgar-filings/TSLA'  # Optional: can be the same as source_folder\n",
    "\n",
    "# Call the function\n",
    "rename_txt_to_html(source_folder, target_folder)\n"
   ]
  },
  {
   "cell_type": "code",
   "execution_count": null,
   "id": "4f59da0b",
   "metadata": {},
   "outputs": [],
   "source": []
  }
 ],
 "metadata": {
  "kernelspec": {
   "display_name": "Python 3 (ipykernel)",
   "language": "python",
   "name": "python3"
  },
  "language_info": {
   "codemirror_mode": {
    "name": "ipython",
    "version": 3
   },
   "file_extension": ".py",
   "mimetype": "text/x-python",
   "name": "python",
   "nbconvert_exporter": "python",
   "pygments_lexer": "ipython3",
   "version": "3.11.5"
  }
 },
 "nbformat": 4,
 "nbformat_minor": 5
}
